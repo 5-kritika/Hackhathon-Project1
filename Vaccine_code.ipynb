{
 "cells": [
  {
   "cell_type": "code",
   "execution_count": 1,
   "id": "1b60a1e1",
   "metadata": {},
   "outputs": [],
   "source": [
    "import pandas as pd\n",
    "from sklearn.model_selection import train_test_split, GridSearchCV\n",
    "from sklearn.preprocessing import OneHotEncoder, StandardScaler\n",
    "from sklearn.compose import ColumnTransformer\n",
    "from sklearn.pipeline import Pipeline\n",
    "from sklearn.impute import SimpleImputer\n",
    "from  sklearn.linear_model import LogisticRegression\n",
    "from sklearn.svm import SVC\n",
    "from sklearn.metrics import roc_auc_score,roc_curve,auc\n",
    "import matplotlib.pyplot as plt\n",
    "from sklearn.multioutput import MultiOutputClassifier\n"
   ]
  },
  {
   "cell_type": "code",
   "execution_count": 2,
   "id": "be27462e",
   "metadata": {},
   "outputs": [],
   "source": [
    "train_feature = pd.read_csv(\"training_set_features.csv\")\n",
    "train_label = pd.read_csv(\"training_set_labels.csv\")\n",
    "test_feature = pd.read_csv(\"test_set_features.csv\")\n",
    "submission_format = pd.read_csv(\"submission_format.csv\")\n"
   ]
  },
  {
   "cell_type": "code",
   "execution_count": 3,
   "id": "01dec834",
   "metadata": {},
   "outputs": [
    {
     "name": "stdout",
     "output_type": "stream",
     "text": [
      "   respondent_id  xyz_concern  xyz_knowledge  behavioral_antiviral_meds  \\\n",
      "0              0          1.0            0.0                        0.0   \n",
      "1              1          3.0            2.0                        0.0   \n",
      "2              2          1.0            1.0                        0.0   \n",
      "3              3          1.0            1.0                        0.0   \n",
      "4              4          2.0            1.0                        0.0   \n",
      "\n",
      "   behavioral_avoidance  behavioral_face_mask  behavioral_wash_hands  \\\n",
      "0                   0.0                   0.0                    0.0   \n",
      "1                   1.0                   0.0                    1.0   \n",
      "2                   1.0                   0.0                    0.0   \n",
      "3                   1.0                   0.0                    1.0   \n",
      "4                   1.0                   0.0                    1.0   \n",
      "\n",
      "   behavioral_large_gatherings  behavioral_outside_home  \\\n",
      "0                          0.0                      1.0   \n",
      "1                          0.0                      1.0   \n",
      "2                          0.0                      0.0   \n",
      "3                          1.0                      0.0   \n",
      "4                          1.0                      0.0   \n",
      "\n",
      "   behavioral_touch_face  ...             income_poverty  marital_status  \\\n",
      "0                    1.0  ...              Below Poverty     Not Married   \n",
      "1                    1.0  ...              Below Poverty     Not Married   \n",
      "2                    0.0  ...  <= $75,000, Above Poverty     Not Married   \n",
      "3                    0.0  ...              Below Poverty     Not Married   \n",
      "4                    1.0  ...  <= $75,000, Above Poverty         Married   \n",
      "\n",
      "   rent_or_own   employment_status  hhs_geo_region                census_msa  \\\n",
      "0          Own  Not in Labor Force        oxchjgsf                   Non-MSA   \n",
      "1         Rent            Employed        bhuqouqj  MSA, Not Principle  City   \n",
      "2          Own            Employed        qufhixun  MSA, Not Principle  City   \n",
      "3         Rent  Not in Labor Force        lrircsnp       MSA, Principle City   \n",
      "4          Own            Employed        qufhixun  MSA, Not Principle  City   \n",
      "\n",
      "   household_adults  household_children  employment_industry  \\\n",
      "0               0.0                 0.0                  NaN   \n",
      "1               0.0                 0.0             pxcmvdjn   \n",
      "2               2.0                 0.0             rucpziij   \n",
      "3               0.0                 0.0                  NaN   \n",
      "4               1.0                 0.0             wxleyezf   \n",
      "\n",
      "   employment_occupation  \n",
      "0                    NaN  \n",
      "1               xgwztkwe  \n",
      "2               xtkaffoo  \n",
      "3                    NaN  \n",
      "4               emcorrxb  \n",
      "\n",
      "[5 rows x 36 columns]\n",
      "   respondent_id  xyz_vaccine  seasonal_vaccine\n",
      "0              0            0                 0\n",
      "1              1            0                 1\n",
      "2              2            0                 0\n",
      "3              3            0                 1\n",
      "4              4            0                 0\n",
      "   respondent_id  xyz_concern  xyz_knowledge  behavioral_antiviral_meds  \\\n",
      "0          26707          2.0            2.0                        0.0   \n",
      "1          26708          1.0            1.0                        0.0   \n",
      "2          26709          2.0            2.0                        0.0   \n",
      "3          26710          1.0            1.0                        0.0   \n",
      "4          26711          3.0            1.0                        1.0   \n",
      "\n",
      "   behavioral_avoidance  behavioral_face_mask  behavioral_wash_hands  \\\n",
      "0                   1.0                   0.0                    1.0   \n",
      "1                   0.0                   0.0                    0.0   \n",
      "2                   0.0                   1.0                    1.0   \n",
      "3                   0.0                   0.0                    0.0   \n",
      "4                   1.0                   0.0                    1.0   \n",
      "\n",
      "   behavioral_large_gatherings  behavioral_outside_home  \\\n",
      "0                          1.0                      0.0   \n",
      "1                          0.0                      0.0   \n",
      "2                          1.0                      1.0   \n",
      "3                          0.0                      0.0   \n",
      "4                          1.0                      1.0   \n",
      "\n",
      "   behavioral_touch_face  ...             income_poverty  marital_status  \\\n",
      "0                    1.0  ...                  > $75,000     Not Married   \n",
      "1                    0.0  ...              Below Poverty     Not Married   \n",
      "2                    1.0  ...                  > $75,000         Married   \n",
      "3                    0.0  ...  <= $75,000, Above Poverty         Married   \n",
      "4                    1.0  ...  <= $75,000, Above Poverty     Not Married   \n",
      "\n",
      "   rent_or_own   employment_status  hhs_geo_region                census_msa  \\\n",
      "0         Rent            Employed        mlyzmhmf  MSA, Not Principle  City   \n",
      "1         Rent            Employed        bhuqouqj                   Non-MSA   \n",
      "2          Own            Employed        lrircsnp                   Non-MSA   \n",
      "3          Own  Not in Labor Force        lrircsnp  MSA, Not Principle  City   \n",
      "4          Own            Employed        lzgpxyit                   Non-MSA   \n",
      "\n",
      "   household_adults  household_children  employment_industry  \\\n",
      "0               1.0                 0.0             atmlpfrs   \n",
      "1               3.0                 0.0             atmlpfrs   \n",
      "2               1.0                 0.0             nduyfdeo   \n",
      "3               1.0                 0.0                  NaN   \n",
      "4               0.0                 1.0             fcxhlnwr   \n",
      "\n",
      "   employment_occupation  \n",
      "0               hfxkjkmi  \n",
      "1               xqwwgdyp  \n",
      "2               pvmttkik  \n",
      "3                    NaN  \n",
      "4               mxkfnird  \n",
      "\n",
      "[5 rows x 36 columns]\n",
      "   respondent_id  h1n1_vaccine  seasonal_vaccine\n",
      "0          26707           0.5               0.7\n",
      "1          26708           0.5               0.7\n",
      "2          26709           0.5               0.7\n",
      "3          26710           0.5               0.7\n",
      "4          26711           0.5               0.7\n"
     ]
    }
   ],
   "source": [
    "print(train_feature.head())\n",
    "print(train_label.head())\n",
    "print(test_feature.head())\n",
    "print(submission_format.head())"
   ]
  },
  {
   "cell_type": "code",
   "execution_count": 4,
   "id": "4a2f1e69",
   "metadata": {},
   "outputs": [],
   "source": [
    "numerical_cols = train_feature.select_dtypes(include=['float64', 'int64']).columns\n",
    "categorical_cols = train_feature.select_dtypes(include=['object']).columns\n",
    "preprocessor = ColumnTransformer(\n",
    "    transformers=[\n",
    "        ('num', SimpleImputer(strategy='median'), numerical_cols),\n",
    "        ('cat', OneHotEncoder(handle_unknown='ignore'), categorical_cols)\n",
    "    ])"
   ]
  },
  {
   "cell_type": "code",
   "execution_count": 5,
   "id": "27bde750",
   "metadata": {},
   "outputs": [],
   "source": [
    "X_train = preprocessor.fit_transform(train_feature)\n",
    "X_test = preprocessor.transform(test_feature)\n"
   ]
  },
  {
   "cell_type": "code",
   "execution_count": 6,
   "id": "0b240495",
   "metadata": {},
   "outputs": [],
   "source": [
    "y_train = train_label[['xyz_vaccine', 'seasonal_vaccine']]"
   ]
  },
  {
   "cell_type": "code",
   "execution_count": 7,
   "id": "559c1326",
   "metadata": {},
   "outputs": [],
   "source": [
    "X_train_train, X_train_val, y_train_train, y_train_val = train_test_split(X_train, y_train, test_size=0.2, random_state=42)"
   ]
  },
  {
   "cell_type": "code",
   "execution_count": 8,
   "id": "876b4211",
   "metadata": {},
   "outputs": [],
   "source": [
    "svm_classifier = SVC(kernel='rbf',probability = True, random_state=42)  \n"
   ]
  },
  {
   "cell_type": "code",
   "execution_count": null,
   "id": "546dfbdb",
   "metadata": {},
   "outputs": [],
   "source": [
    "svm_model = MultiOutputClassifier(svm_classifier)\n",
    "svm_model.fit(X_train_train, y_train_train)"
   ]
  },
  {
   "cell_type": "code",
   "execution_count": null,
   "id": "b4c935f4",
   "metadata": {},
   "outputs": [],
   "source": [
    "# Evaluate the model on the validation set\n",
    "y_val_pred = svm_model.predict_proba(X_test)\n",
    "y_val_pred = pd.DataFrame({\n",
    "    'xyz_vaccine': [pred[1] for pred in y_val_pred[0]],\n",
    "    'seasonal_vaccine': [pred[1] for pred in y_val_pred[1]]\n",
    "})\n",
    "\n",
    "# Calculate ROC AUC score\n",
    "roc_auc_xyz = roc_auc_score(y_train_val['xyz_vaccine'], y_val_pred['xyz_vaccine'])\n",
    "roc_auc_seasonal = roc_auc_score(y_train_val['seasonal_vaccine'], y_val_pred['seasonal_vaccine'])\n",
    "mean_roc_auc = (roc_auc_xyz + roc_auc_seasonal) / 2\n",
    "\n",
    "print(f'ROC AUC for xyz_vaccine: {roc_auc_xyz}')\n",
    "print(f'ROC AUC for seasonal_vaccine: {roc_auc_seasonal}')\n",
    "print(f'Mean ROC AUC: {mean_roc_auc}')"
   ]
  },
  {
   "cell_type": "code",
   "execution_count": null,
   "id": "b57737bd",
   "metadata": {},
   "outputs": [],
   "source": [
    "# Define the Logistic Regression classifier with probability=True\n",
    "logreg_classifier = LogisticRegression(random_state=42, solver='lbfgs', multi_class='auto', max_iter=10000, probability=True)\n",
    "\n",
    "# Wrap Logistic Regression in MultiOutputClassifier\n",
    "logreg_model = MultiOutputClassifier(logreg_classifier)\n",
    "\n",
    "# Fit the model\n",
    "logreg_model.fit(X_train_train, y_train_train)\n",
    "\n",
    "# Predict probabilities on the validation set\n",
    "y_val_pred_proba = logreg_model.predict_proba(X_val)\n",
    "\n",
    "# Calculate ROC AUC score\n",
    "roc_auc_xyz = roc_auc_score(y_train_val['xyz_vaccine'], y_val_pred['xyz_vaccine'])\n",
    "roc_auc_seasonal = roc_auc_score(y_train_val['seasonal_vaccine'], y_val_pred['seasonal_vaccine'])\n",
    "mean_roc_auc = (roc_auc_xyz + roc_auc_seasonal) / 2\n",
    "\n",
    "print(f'ROC AUC for xyz_vaccine: {roc_auc_xyz}')\n",
    "print(f'ROC AUC for seasonal_vaccine: {roc_auc_seasonal}')\n",
    "print(f'Mean ROC AUC: {mean_roc_auc}')"
   ]
  },
  {
   "cell_type": "code",
   "execution_count": null,
   "id": "49c8e16e",
   "metadata": {},
   "outputs": [],
   "source": []
  },
  {
   "cell_type": "code",
   "execution_count": null,
   "id": "e33d748a",
   "metadata": {},
   "outputs": [],
   "source": []
  },
  {
   "cell_type": "code",
   "execution_count": null,
   "id": "40ce657a",
   "metadata": {},
   "outputs": [],
   "source": []
  },
  {
   "cell_type": "code",
   "execution_count": null,
   "id": "21e96f2d",
   "metadata": {},
   "outputs": [],
   "source": []
  },
  {
   "cell_type": "code",
   "execution_count": null,
   "id": "4c159ed3",
   "metadata": {},
   "outputs": [],
   "source": []
  },
  {
   "cell_type": "code",
   "execution_count": null,
   "id": "f05bc92d",
   "metadata": {},
   "outputs": [],
   "source": []
  }
 ],
 "metadata": {
  "kernelspec": {
   "display_name": "Python 3 (ipykernel)",
   "language": "python",
   "name": "python3"
  },
  "language_info": {
   "codemirror_mode": {
    "name": "ipython",
    "version": 3
   },
   "file_extension": ".py",
   "mimetype": "text/x-python",
   "name": "python",
   "nbconvert_exporter": "python",
   "pygments_lexer": "ipython3",
   "version": "3.10.9"
  }
 },
 "nbformat": 4,
 "nbformat_minor": 5
}
